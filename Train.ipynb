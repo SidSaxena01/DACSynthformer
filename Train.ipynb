{
 "cells": [
  {
   "cell_type": "markdown",
   "id": "968043ef",
   "metadata": {},
   "source": [
    "### chaptGPT specs   \n",
    "\n",
    "A decoder-only transformer in pytorch to predict 'next output' at each time step. \n",
    "\n",
    "Each time step t is represented by a vector of n=4 tokens from the Descript DAC encoder. \n",
    "The length of the sequence (context window) is Ti=86 for inference, and Tt=8*Ti for training. That is, the context window for training is 8 times the length of the context window for inference. \n",
    "The attention is \"causal\", looking only back in time, and the maximum look-back time for the attention blocks is Ti (even when the sequence is longer during training). That is, the masking matrix is *banded* - triangular to be causal, and limited in lookback which results in a diagonal band). This prevents much of the training on shortened context that happens when tokens are near the beginning of traning examples. \n",
    "\n",
    "The size of the vocabulary (the number of descrete values in each codebook) for each of the n tokens is V=1024. \n",
    "\n",
    "The dataloader will as is usual, supply batches in triplets  (input,target, conditioning info) where the size of each input and output is Tt*n (the sequence length times the number of tokens at each time step). The tokens are indexes for the vocabulary in the range of (0, V-1). The targets are shifted relative to the input sequence by 1 as is typical for networks the learn to predict the output for the next time step. \n",
    "\n",
    "The first layer in the architecture will be a learnable \"multiembedding\" layer that embeds each of the 4 tokens at each time step as an m-dimensional vector. The n m-dimensional vectors are concatenated to provide the n*m dimensional input embeddings for the transformer blocks at each time step. \n",
    "\n",
    "A positional code is then added to each n*m dimensional vector. For positional encoding, we use Rotary Position Embedding (RoPE).\n",
    "\n",
    "We use a stack of b transformer blocks that are standard (using layer norms, a relu for activation, and a forward expansion factor of 4 form the linear layer). Each transformer block consumes and produces a context window length sequence of m*n dimensional vectors. \n",
    "\n",
    "After the last transformer block, there is a linear layer that maps the m*n dimensional vectors to the output size which is V*n (the vocabulary size time the number of tokens stacked at each time step). These are the logits that will be fed to the softmax functions (one for each of the n tokens) that provide the probability distribtion across the vocabulary set. We use the criterion nn.CrossEntropyLoss() for computing the loss using the targets provided by the dataloader, and Adam for the optimizer.\n",
    "\n",
    "Again, at inference time, the fixed-length context window is shorter than the training sequence window length, and equal to the maximum look-back time of the attention blocks. The inference process takes the output produced at each time step (a stack of n tokens), and shift them in to a sliding window that is used for input for the next time step. The length of the sequences generated during inference is arbitrary and should be settable with a parameter. \n"
   ]
  },
  {
   "cell_type": "markdown",
   "id": "8f1a18a6",
   "metadata": {},
   "source": []
  },
  {
   "cell_type": "code",
   "execution_count": 1,
   "id": "d67b59e6",
   "metadata": {},
   "outputs": [],
   "source": [
    "import torch\n",
    "import torch.nn as nn\n",
    "import torch.optim as optim\n",
    "import math\n",
    "import time\n",
    "\n",
    "import numpy as np\n",
    "\n",
    "# and for creating a custom dataset and loader:\n",
    "from torch.utils.data import DataLoader\n",
    "import os\n",
    "import yaml\n",
    "import shutil\n",
    "\n",
    "from utils.utils import generate_mask, save_model, writeDACFile, interpolate_vectors\n",
    "\n",
    "# from DACTransformer.DACTransformer import TransformerDecoder\n",
    "# from DACTransformer.CondQueryTransformer import ClassConditionedTransformer\n",
    "# from DACTransformer.CondKeyTransformer import ClassConditionedKeyTransformer\n",
    "# from DACTransformer.PostNormCondDACTransformer import PostNormCondDACTransformerDecoder\n",
    "from DACTransformer.RopeCondDACTransformer import RopeCondDACTransformer\n",
    "\n",
    "from dataloader.dataset import CustomDACDataset, onehot, getNumClasses"
   ]
  },
  {
   "cell_type": "code",
   "execution_count": 2,
   "id": "76dcc87a",
   "metadata": {},
   "outputs": [],
   "source": [
    "from torch.utils.tensorboard import SummaryWriter"
   ]
  },
  {
   "cell_type": "markdown",
   "id": "953b85ef",
   "metadata": {},
   "source": [
    "### <font color='blue'> Parameters \n",
    "</font>"
   ]
  },
  {
   "cell_type": "code",
   "execution_count": 3,
   "id": "5719fe70",
   "metadata": {},
   "outputs": [],
   "source": [
    "paramfile = 'params.yaml' # 'params.yaml' #'params_sm.yaml'\n",
    "DEVICE='cuda' #####################################################''cuda'"
   ]
  },
  {
   "cell_type": "code",
   "execution_count": 4,
   "id": "638ee684",
   "metadata": {},
   "outputs": [
    {
     "name": "stdout",
     "output_type": "stream",
     "text": [
      "embed_size is 504\n",
      "using TransformerClass = RopeCondDACTransformer\n",
      "basefname = out.e504.l4.h8\n",
      "outdir = runs/2025.02.19_ROPE_mask86layers4fexp4\n"
     ]
    },
    {
     "data": {
      "text/plain": [
       "'runs/2025.02.19_ROPE_mask86layers4fexp4/params.yaml'"
      ]
     },
     "execution_count": 4,
     "metadata": {},
     "output_type": "execute_result"
    }
   ],
   "source": [
    "# Training data dir\n",
    "\n",
    "# Load YAML file\n",
    "with open(paramfile, 'r') as file:\n",
    "    params = yaml.safe_load(file)\n",
    "\n",
    "\n",
    "data_dir = params['data_dir']\n",
    "validator_data_dir = params['validator_data_dir']\n",
    "\n",
    "# ---------     for the transformer  --------------#\n",
    "vocab_size = params['vocab_size']\n",
    "num_tokens = params['num_tokens']\n",
    "\n",
    "cond_classes = getNumClasses() # 0\n",
    "cond_params = params['cond_params']\n",
    "cond_size = cond_classes + cond_params # num_classes + num params - not a FREE parameter!\n",
    "\n",
    "embed_size = params['tblock_input_size'] -cond_size # 240 #32  # embed_size must be divisible by num_heads and by num tokens\n",
    "print(f'embed_size is {embed_size}')\n",
    "\n",
    "Ti = params['Ti']\n",
    "Tt = params['Tt']\n",
    "batch_size = params['batch_size']\n",
    "\n",
    "sequence_length = Tt  # For training\n",
    "\n",
    "num_layers = params['num_layers']\n",
    "num_heads = params['num_heads']\n",
    "forward_expansion = params['forward_expansion']\n",
    "dropout_rate = params['dropout_rate']\n",
    "learning_rate = params['learning_rate']\n",
    "num_epochs=params['num_epochs']\n",
    "\n",
    "experiment_name=params['experiment'] \n",
    "outdir = 'runs' + '/' + experiment_name\n",
    "basefname= 'out' + '.e' + str(embed_size) + '.l' + str(num_layers) + '.h' + str(num_heads) \n",
    "\n",
    "ErrorLogRate = params['ErrorLogRate'] #10\n",
    "checkpoint_interval = params['checkpoint_interval']\n",
    "\n",
    "verboselevel=0\n",
    "\n",
    "TransformerClass =  globals().get(params['TransformerClass'])  \n",
    "\n",
    "print(f\"using TransformerClass = {params['TransformerClass']}\") \n",
    "print(f'basefname = {basefname}')\n",
    "print(f'outdir = {outdir}')\n",
    "\n",
    "###########################################################################\n",
    "# Ensure the destination directory exists\n",
    "#destination_dir = os.path.dirname(outdir + '/' + paramfile)\n",
    "#if not os.path.exists(destination_dir):\n",
    "#    os.makedirs(destination_dir)\n",
    "    \n",
    "if not os.path.exists(outdir):\n",
    "    os.makedirs(outdir)\n",
    "shutil.copy(paramfile, outdir + '/params.yaml')  # copy whatever paramfile was used to outdir and name it params.yaml"
   ]
  },
  {
   "cell_type": "markdown",
   "id": "bebf3928",
   "metadata": {},
   "source": [
    "### <font color='blue'> Set up cuda. \n",
    "Without it, training runs about 4 times slower  \n",
    "</font>"
   ]
  },
  {
   "cell_type": "code",
   "execution_count": 5,
   "id": "4ff0adcb",
   "metadata": {},
   "outputs": [
    {
     "name": "stdout",
     "output_type": "stream",
     "text": [
      "memeory on cuda 0 is  25.37816064\n"
     ]
    },
    {
     "data": {
      "text/plain": [
       "device(type='cuda')"
      ]
     },
     "execution_count": 5,
     "metadata": {},
     "output_type": "execute_result"
    }
   ],
   "source": [
    "if DEVICE == 'cuda' :\n",
    "    torch.cuda.device_count()\n",
    "    torch.cuda.get_device_properties(0).total_memory/1e9\n",
    "\n",
    "    device = torch.device(DEVICE) # if the docker was started with --gpus all, then can choose here with cuda:0 (or cpu)\n",
    "    torch.cuda.device_count()\n",
    "    print(f'memeory on cuda 0 is  {torch.cuda.get_device_properties(0).total_memory/1e9}')\n",
    "else :\n",
    "    device=DEVICE\n",
    "device"
   ]
  },
  {
   "cell_type": "markdown",
   "id": "0ee7020c",
   "metadata": {},
   "source": [
    "### <font color='blue'> Load data \n",
    "</font>"
   ]
  },
  {
   "cell_type": "code",
   "execution_count": 6,
   "id": "c684557b",
   "metadata": {},
   "outputs": [
    {
     "name": "stdout",
     "output_type": "stream",
     "text": [
      "Batch 1\n",
      "Inputs shape: torch.Size([8, 430, 4])\n",
      "Targets shape: torch.Size([8, 430, 4])\n",
      "cvect shape: torch.Size([8, 8])\n",
      "cevect is tensor([[0.0000, 0.0000, 0.0000, 0.0000, 1.0000, 0.0000, 0.0000, 0.9000],\n",
      "        [0.0000, 1.0000, 0.0000, 0.0000, 0.0000, 0.0000, 0.0000, 0.4000],\n",
      "        [0.0000, 0.0000, 0.0000, 0.0000, 0.0000, 1.0000, 0.0000, 0.1500],\n",
      "        [0.0000, 0.0000, 0.0000, 0.0000, 0.0000, 1.0000, 0.0000, 0.5500],\n",
      "        [0.0000, 0.0000, 1.0000, 0.0000, 0.0000, 0.0000, 0.0000, 0.5000],\n",
      "        [0.0000, 0.0000, 0.0000, 1.0000, 0.0000, 0.0000, 0.0000, 0.0000],\n",
      "        [0.0000, 0.0000, 0.0000, 1.0000, 0.0000, 0.0000, 0.0000, 0.9000],\n",
      "        [0.0000, 0.0000, 0.0000, 0.0000, 0.0000, 0.0000, 1.0000, 0.3000]])\n"
     ]
    }
   ],
   "source": [
    "# Create an instance of the dataset\n",
    "dataset = CustomDACDataset(data_dir=data_dir)\n",
    "# Create a DataLoader\n",
    "dataloader = DataLoader(dataset, batch_size=batch_size, shuffle=True)\n",
    "\n",
    "#Validator data set\n",
    "if validator_data_dir != None :\n",
    "    validator_dataset=CustomDACDataset(data_dir=validator_data_dir)\n",
    "    validator_dataloader= DataLoader(validator_dataset, batch_size=batch_size, shuffle=True)\n",
    "\n",
    "#---------------------------------------------------------------\n",
    "# Test data dir\n",
    "for batch_idx, (inputs, targets, cvect) in enumerate(dataloader):\n",
    "    #pass\n",
    "    # Your training code here\n",
    "    # inputs: batch of input data of shape [batch_size, N, T-1]\n",
    "    # targets: corresponding batch of target data of shape [batch_size, N, T-1]\n",
    "    \n",
    "    if (batch_idx == 0) : \n",
    "        print(f\"Batch {batch_idx + 1}\")\n",
    "        print(f\"Inputs shape: {inputs.shape}\")\n",
    "        print(f\"Targets shape: {targets.shape}\")\n",
    "        print(f\"cvect shape: {cvect.shape}\")\n",
    "        print(f'cevect is {cvect}')"
   ]
  },
  {
   "cell_type": "markdown",
   "id": "eeb0eb6c",
   "metadata": {},
   "source": [
    "### <font color='blue'> Instantiate model \n",
    "</font>"
   ]
  },
  {
   "cell_type": "code",
   "execution_count": 7,
   "id": "b3c9b110",
   "metadata": {},
   "outputs": [
    {
     "name": "stdout",
     "output_type": "stream",
     "text": [
      "Mask.shape is torch.Size([430, 430])\n"
     ]
    },
    {
     "data": {
      "text/plain": [
       "tensor([[0., -inf, -inf,  ..., -inf, -inf, -inf],\n",
       "        [0., 0., -inf,  ..., -inf, -inf, -inf],\n",
       "        [0., 0., 0.,  ..., -inf, -inf, -inf],\n",
       "        ...,\n",
       "        [-inf, -inf, -inf,  ..., 0., -inf, -inf],\n",
       "        [-inf, -inf, -inf,  ..., 0., 0., -inf],\n",
       "        [-inf, -inf, -inf,  ..., 0., 0., 0.]], device='cuda:0')"
      ]
     },
     "execution_count": 7,
     "metadata": {},
     "output_type": "execute_result"
    }
   ],
   "source": [
    "mask = generate_mask(Tt, Ti).to(device)\n",
    "print(f'Mask.shape is {mask.shape}')\n",
    "mask"
   ]
  },
  {
   "cell_type": "code",
   "execution_count": 8,
   "id": "11c4b392",
   "metadata": {},
   "outputs": [
    {
     "name": "stdout",
     "output_type": "stream",
     "text": [
      "Creating model with embed_size=504, cond_size=8\n",
      "Setting up MultiEmbedding with vocab_size= 1024, embed_size= 504, num_codebooks= 4\n",
      "Setting up RotaryPositionalEmbedding with embed_size= 504, max_len= 430\n",
      "Total number of parameters: 15837760\n"
     ]
    }
   ],
   "source": [
    "# Instantiate model, put it on the device\n",
    "#model = TransformerDecoder(embed_size, num_layers, num_heads, forward_expansion, dropout_rate, Tt, num_tokens, vocab_size).to(device)\n",
    "print(f'Creating model with embed_size={embed_size}, cond_size={cond_size}')\n",
    "\n",
    "# if TransformerClass == TransformerDecoder :\n",
    "#     model = TransformerDecoder(embed_size, num_layers, num_heads, forward_expansion, dropout_rate, Tt, cond_classes, num_tokens, vocab_size, cond_size, verboselevel).to(device)\n",
    "# elif  TransformerClass == ClassConditionedTransformer:\n",
    "#     model = ClassConditionedTransformer(embed_size, num_layers, num_heads, forward_expansion, dropout_rate, Tt, cond_classes, num_tokens, vocab_size, cond_size, verboselevel).to(device)\n",
    "# else :\n",
    "#     model = ClassConditionedKeyTransformer(embed_size, num_layers, num_heads, forward_expansion, dropout_rate, Tt, cond_classes, num_tokens, vocab_size, cond_size, verboselevel).to(device)\n",
    "\n",
    "### if TransformerClass == PostNormCondDACTransformerDecoder :\n",
    "###    model = TransformerClass(embed_size+cond_size, embed_size, num_layers, num_heads, forward_expansion, dropout_rate, Tt, cond_classes, num_tokens, vocab_size, cond_size, verboselevel).to(device)\n",
    "### else :\n",
    "###    model = TransformerClass(embed_size, num_layers, num_heads, forward_expansion, dropout_rate, Tt, cond_classes, num_tokens, vocab_size, cond_size, verboselevel).to(device)\n",
    "model = TransformerClass(embed_size, num_layers, num_heads, forward_expansion, dropout_rate, Tt, cond_classes, num_tokens, vocab_size, cond_size, verboselevel).to(device)\n",
    "\n",
    "optimizer = optim.Adam(model.parameters(), lr=learning_rate)\n",
    "criterion = nn.CrossEntropyLoss()\n",
    "\n",
    "# Count the number of parameters\n",
    "num_params = sum(p.numel() for p in model.parameters())\n",
    "print(f'Total number of parameters: {num_params}')"
   ]
  },
  {
   "cell_type": "markdown",
   "id": "faf2f038",
   "metadata": {},
   "source": [
    "### <font color='blue'> Train !! \n",
    "</font>"
   ]
  },
  {
   "cell_type": "code",
   "execution_count": 9,
   "id": "719a0b8e",
   "metadata": {},
   "outputs": [],
   "source": [
    "# Initialize SummaryWriter\n",
    "writer = SummaryWriter(outdir)\n"
   ]
  },
  {
   "cell_type": "code",
   "execution_count": 10,
   "id": "19920362",
   "metadata": {},
   "outputs": [
    {
     "name": "stdout",
     "output_type": "stream",
     "text": [
      "\n",
      "EPOCH 10  loss: 4.88798713684082\n",
      "Validation Loss: 3.5976099967956543\n",
      "train time for 10 epochs, was 125.13021945953369\n",
      "\n",
      "EPOCH 20  loss: 3.3256430625915527\n",
      "Validation Loss: 3.508418083190918\n",
      "train time for 20 epochs, was 246.873375415802\n",
      "save model to : runs/2025.02.19_ROPE_mask86layers4fexp4/out.e504.l4.h8_chkpt_0025 + \".pth\" \n",
      "\n",
      "EPOCH 30  loss: 3.21386981010437\n",
      "Validation Loss: 3.4533638954162598\n",
      "train time for 30 epochs, was 369.7977879047394\n",
      "\n",
      "EPOCH 40  loss: 1.4053882360458374\n",
      "Validation Loss: 3.3868377208709717\n",
      "train time for 40 epochs, was 493.34233570098877\n",
      "\n",
      "EPOCH 50  loss: 2.753322124481201\n",
      "Validation Loss: 3.482856035232544\n",
      "train time for 50 epochs, was 614.843718290329\n",
      "save model to : runs/2025.02.19_ROPE_mask86layers4fexp4/out.e504.l4.h8_chkpt_0050 + \".pth\" \n",
      "\n",
      "EPOCH 60  loss: 2.1383743286132812\n",
      "Validation Loss: 3.4238016605377197\n",
      "train time for 60 epochs, was 736.3487875461578\n",
      "\n",
      "EPOCH 70  loss: 3.988708257675171\n",
      "Validation Loss: 3.45188307762146\n",
      "train time for 70 epochs, was 857.9280936717987\n",
      "save model to : runs/2025.02.19_ROPE_mask86layers4fexp4/out.e504.l4.h8_chkpt_0075 + \".pth\" \n",
      "\n",
      "EPOCH 80  loss: 3.935098886489868\n",
      "Validation Loss: 3.4256298542022705\n",
      "train time for 80 epochs, was 979.5510828495026\n",
      "\n",
      "EPOCH 90  loss: 3.4083027839660645\n",
      "Validation Loss: 3.4326488971710205\n",
      "train time for 90 epochs, was 1105.1651921272278\n",
      "\n",
      "EPOCH 100  loss: 3.203117847442627\n",
      "Validation Loss: 3.505718469619751\n",
      "train time for 100 epochs, was 1231.2744898796082\n",
      "save model to : runs/2025.02.19_ROPE_mask86layers4fexp4/out.e504.l4.h8_chkpt_0100 + \".pth\" \n",
      "\n",
      "EPOCH 110  loss: 3.0573787689208984\n",
      "Validation Loss: 3.527292490005493\n",
      "train time for 110 epochs, was 1355.5240688323975\n",
      "\n",
      "EPOCH 120  loss: 2.9488916397094727\n",
      "Validation Loss: 3.5096399784088135\n",
      "train time for 120 epochs, was 1478.138619184494\n",
      "save model to : runs/2025.02.19_ROPE_mask86layers4fexp4/out.e504.l4.h8_chkpt_0125 + \".pth\" \n",
      "\n",
      "EPOCH 130  loss: 2.5843701362609863\n",
      "Validation Loss: 3.4741663932800293\n",
      "train time for 130 epochs, was 1607.336859703064\n",
      "\n",
      "EPOCH 140  loss: 2.296977996826172\n",
      "Validation Loss: 3.5212230682373047\n",
      "train time for 140 epochs, was 1735.7201161384583\n",
      "\n",
      "EPOCH 150  loss: 2.057051181793213\n",
      "Validation Loss: 3.479682207107544\n",
      "train time for 150 epochs, was 1857.9396743774414\n",
      "save model to : runs/2025.02.19_ROPE_mask86layers4fexp4/out.e504.l4.h8_chkpt_0150 + \".pth\" \n",
      "\n",
      "EPOCH 160  loss: 2.4357552528381348\n",
      "Validation Loss: 3.540249824523926\n",
      "train time for 160 epochs, was 1979.788479089737\n",
      "\n",
      "EPOCH 170  loss: 1.9985482692718506\n",
      "Validation Loss: 3.5883889198303223\n",
      "train time for 170 epochs, was 2101.213217973709\n",
      "save model to : runs/2025.02.19_ROPE_mask86layers4fexp4/out.e504.l4.h8_chkpt_0175 + \".pth\" \n",
      "\n",
      "EPOCH 180  loss: 1.030817985534668\n",
      "Validation Loss: 3.558349132537842\n",
      "train time for 180 epochs, was 2222.6263251304626\n",
      "\n",
      "EPOCH 190  loss: 1.7579388618469238\n",
      "Validation Loss: 3.5670323371887207\n",
      "train time for 190 epochs, was 2344.204887151718\n",
      "\n",
      "EPOCH 200  loss: 0.08562815189361572\n",
      "Validation Loss: 3.594326972961426\n",
      "train time for 200 epochs, was 2465.4901173114777\n",
      "save model to : runs/2025.02.19_ROPE_mask86layers4fexp4/out.e504.l4.h8_chkpt_0200 + \".pth\" \n",
      "\n",
      "EPOCH 210  loss: 3.016158103942871\n",
      "Validation Loss: 3.5412566661834717\n",
      "train time for 210 epochs, was 2587.0272862911224\n",
      "\n",
      "EPOCH 220  loss: 2.8110783100128174\n",
      "Validation Loss: 3.609650135040283\n",
      "train time for 220 epochs, was 2708.3640463352203\n",
      "save model to : runs/2025.02.19_ROPE_mask86layers4fexp4/out.e504.l4.h8_chkpt_0225 + \".pth\" \n",
      "\n",
      "EPOCH 230  loss: 2.906146764755249\n",
      "Validation Loss: 3.5115761756896973\n",
      "train time for 230 epochs, was 2829.7114300727844\n",
      "\n",
      "EPOCH 240  loss: 0.9336792230606079\n",
      "Validation Loss: 3.6173083782196045\n",
      "train time for 240 epochs, was 2951.005439043045\n",
      "\n",
      "EPOCH 250  loss: 2.981948137283325\n",
      "Validation Loss: 3.5889017581939697\n",
      "train time for 250 epochs, was 3072.3469796180725\n",
      "save model to : runs/2025.02.19_ROPE_mask86layers4fexp4/out.e504.l4.h8_chkpt_0250 + \".pth\" \n",
      "train time for 250 epochs, was 3072.3818135261536\n",
      "loss  =  2.981948137283325\n"
     ]
    }
   ],
   "source": [
    "\n",
    "t0 = time.time()\n",
    "\n",
    "for epoch in range(num_epochs):\n",
    "    torch.cuda.empty_cache()\n",
    "    model.train()\n",
    "    for batch_idx, (input_data, target_data, cond_data) in enumerate(dataloader):\n",
    "        if verboselevel > 5 :\n",
    "            print(f' ---- submitting batch with input_data={input_data.shape}, target_data={target_data.shape}, cond_data={cond_data.shape}')\n",
    "        #print(f\"b{batch_idx} \", end='')\n",
    "        optimizer.zero_grad()\n",
    "\n",
    "        # Move inputs and targets to the device\n",
    "        input_data, target_data, cond_data = input_data.to(device), target_data.to(device), cond_data.to(device)\n",
    "        \n",
    "        if cond_size==0 :  #Ignore conditioning data\n",
    "            cond_expanded=None\n",
    "        else : \n",
    "            # for dataset exammples, expand the conditioning info across all time steps before passing to models\n",
    "            cond_expanded = cond_data.unsqueeze(1).expand(-1, input_data.size(1), -1)\n",
    "        \n",
    "        #print(f'    after loading a batch,  input_data.shape is {input_data.shape}, and cond_data.shape is {cond_data.shape}')\n",
    "        #print(f'    after loading a batch,  cond_expanded.shape is {cond_expanded.shape}')\n",
    "        #print(f'    after loading a batch,  mask.shape is {mask.shape}')\n",
    "        #print(f' model={model}')\n",
    "        \n",
    "        \n",
    "        output = model(input_data, cond_expanded, mask)\n",
    "    \n",
    "        if verboselevel > 5 :\n",
    "            print(f' TTTTTTTT after training, output shape ={output.shape}')\n",
    "            print(f' TTTTTTTT Passing to CRITERION with , output.reshape(-1, vocab_size) = {output.reshape(-1, vocab_size).shape} and target_data.reshape(-1) = {target_data.reshape(-1).shape}' )\n",
    "        \n",
    "        loss = criterion(output.reshape(-1, vocab_size), target_data.reshape(-1)) # collapses all target_data dimensions into a single dimension\n",
    "\n",
    "        loss.backward()\n",
    "        optimizer.step()\n",
    "    if (epoch+1) % ErrorLogRate == 0:\n",
    "        print(f'')\n",
    "        print(f'EPOCH {epoch+1}  ', end='')\n",
    "        print(f'loss: {loss}')\n",
    "        # Log the loss to TensorBoard\n",
    "        writer.add_scalar('Loss/train', loss, epoch)\n",
    "        \n",
    "        if validator_data_dir != None :\n",
    "            model.eval()\n",
    "            with torch.no_grad():\n",
    "                val_loss = 0\n",
    "                for val_inputs, val_targets, cond_data in validator_dataloader:\n",
    "                    val_inputs, val_targets, cond_data = val_inputs.to(device), val_targets.to(device), cond_data.to(device)\n",
    "                    \n",
    "                    if cond_size==0 :  #Ignore conditioning data\n",
    "                        cond_expanded=None\n",
    "                    else: \n",
    "                        # for dataset exammples, expand the conditioning info across all time steps before passing to models\n",
    "                        cond_expanded = cond_data.unsqueeze(1).expand(-1, input_data.size(1), -1)\n",
    "\n",
    "                    \n",
    "                    val_outputs = model(val_inputs,cond_expanded, mask)\n",
    "                    \n",
    "                    val_loss += criterion(val_outputs.reshape(-1, vocab_size), val_targets.reshape(-1)) # collapses all target_data dimensions into a single dimension\n",
    "                    #val_loss += criterion(val_outputs, val_targets).item()\n",
    "\n",
    "            print(f'Validation Loss: {val_loss / len(validator_dataloader)}')\n",
    "            writer.add_scalar('Loss/validation', val_loss / len(validator_dataloader), epoch)\n",
    "\n",
    "            t1 = time.time()\n",
    "            train_time = t1-t0\n",
    "            print(f'train time for {epoch+1} epochs, was {train_time}' )\n",
    "            \n",
    "    if (epoch+1) % checkpoint_interval == 0:\n",
    "        lastbasename = outdir+\"/\"+basefname+\"_chkpt_\"+str(epoch+1).zfill(4)\n",
    "        print(f'save model to : {lastbasename} + \".pth\" ')\n",
    "        save_model(model, Ti,  lastbasename +\".pth\")\n",
    "        \n",
    "    \n",
    "t1 = time.time()\n",
    "train_time = t1-t0\n",
    "print(f'train time for {num_epochs} epochs, was {train_time}' )\n",
    "print(f'loss  =  {loss}' )\n",
    "\n",
    "    "
   ]
  },
  {
   "cell_type": "code",
   "execution_count": 11,
   "id": "16eb43b3",
   "metadata": {},
   "outputs": [
    {
     "data": {
      "text/plain": [
       "tensor([[0., -inf, -inf,  ..., -inf, -inf, -inf],\n",
       "        [0., 0., -inf,  ..., -inf, -inf, -inf],\n",
       "        [0., 0., 0.,  ..., -inf, -inf, -inf],\n",
       "        ...,\n",
       "        [0., 0., 0.,  ..., 0., -inf, -inf],\n",
       "        [0., 0., 0.,  ..., 0., 0., -inf],\n",
       "        [0., 0., 0.,  ..., 0., 0., 0.]], device='cuda:0')"
      ]
     },
     "execution_count": 11,
     "metadata": {},
     "output_type": "execute_result"
    }
   ],
   "source": [
    "#just check that inference attention mask will look right\n",
    "#Actually, the inference mask can be None since we are using a context window only as long as the maximum look-back in the training mask\n",
    "# thats why taking the mask with :TI is upper-triangular. Longer dims would show a banded mask again.\n",
    "foo=mask[:Ti, :Ti]\n",
    "foo"
   ]
  },
  {
   "cell_type": "markdown",
   "id": "ffd09668",
   "metadata": {},
   "source": [
    "### <font color='blue'> Use CKPT_DAC_Audio7.ipynb  \n",
    "to see and hear your generated audio   \n",
    "</font>"
   ]
  },
  {
   "cell_type": "code",
   "execution_count": null,
   "id": "7cf82b27",
   "metadata": {},
   "outputs": [],
   "source": [
    "\n"
   ]
  }
 ],
 "metadata": {
  "kernelspec": {
   "display_name": "Python 3 (ipykernel)",
   "language": "python",
   "name": "python3"
  },
  "language_info": {
   "codemirror_mode": {
    "name": "ipython",
    "version": 3
   },
   "file_extension": ".py",
   "mimetype": "text/x-python",
   "name": "python",
   "nbconvert_exporter": "python",
   "pygments_lexer": "ipython3",
   "version": "3.10.11"
  }
 },
 "nbformat": 4,
 "nbformat_minor": 5
}

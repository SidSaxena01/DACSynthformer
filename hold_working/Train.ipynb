{
 "cells": [
  {
   "cell_type": "markdown",
   "id": "b24416cb",
   "metadata": {},
   "source": [
    "### chaptGPT specs   \n",
    "\n",
    "A decoder-only transformer in pytorch to predict 'next output' at each time step. \n",
    "\n",
    "Each time step t is represented by a vector of n=4 tokens. \n",
    "The length of the sequence (context window) is Ti=86 for inference, and Tt=8*Ti for training. That is, the context window for training is 8 times the length of the context window for inference. \n",
    "The attention is \"causal\", looking only back in time, and the maximum look-back time for the attention blocks is Ti (even when the sequence is longer during training).\n",
    "\n",
    "The size of the vocabulary for each of the n tokens is V=1024. \n",
    "\n",
    "The dataloader will as is usual, supply batches pairs of (input,target) where the size of each input and output is Tt*n (the sequence length times the number of tokens at each time step). The tokens are indexes for the vocabulary in the range of (0, V-1). The targets are shifted relative to the input sequence by 1 as is typical for networks the learn to predict the output for the next time step. \n",
    "\n",
    "The first layer in the architecture will be a learnable \"multiembedding\" layer that embeds each of the 4 tokens at each time step as an 8-dimensional vector. The n 8-dimensional vectors is concatenated to provide the 32 dimensional input for the transformer blocks at each time step. \n",
    "\n",
    "A positional code is then added to each 32 dimensional vector. For positional encoding, use Rotary Position Embedding (RoPE).\n",
    "\n",
    "We use a stack of b=8 transformer blocks that are standard (using layer norms, a relu for activation, and a forward expansion factor of 4 form the linear layer). Each transformer block consumes and produces a context window length sequence of 32 dimensional vectors. \n",
    "\n",
    "After the last transformer block, there should be linear layer that maps the 32 dimensional vectors to the output size which is V*n (the vocabulary size time the number of tokens stacked at each time step). These are the logits that will be fed to the softmax functions (one for each of the n tokens) that provide the probability distribtion across the vocabulary set. Use the criterion nn.CrossEntropyLoss() for computing the loss using the targets provided by the dataloader, and Adam for the optimizer.\n",
    "\n",
    "Again, at inference time, the fixed-length context window is shorter than the training sequence window length, and equal to the maximum look-back time of the attention blocks. The inference process should take the output produced at each time step (a stack of n tokens), and shift them in to a sliding window that is used for input for the next time step. Please use the \"Incremental Token Generation Using Cached States\" approach to minimize the computational burden of the shifting input window. Please be careful that it works correctly with the RoPE positional coding. The length of the sequences generated during inference is arbitrary and should be settable with a parameter. \n",
    "\n",
    "Include an example (with dummy inputs and targets) of how to call the code for a training step, and an example of inference for a specifiable output length."
   ]
  },
  {
   "cell_type": "code",
   "execution_count": 1,
   "id": "7aaa59e9",
   "metadata": {},
   "outputs": [],
   "source": [
    "import torch\n",
    "import torch.nn as nn\n",
    "import torch.optim as optim\n",
    "import math\n",
    "import time\n",
    "\n",
    "import numpy as np\n",
    "\n",
    "# and for creating a custom dataset and loader:\n",
    "from torch.utils.data import Dataset, DataLoader\n",
    "import os\n",
    "import dac\n",
    "\n",
    "from utils.utils import generate_mask, save_model, writeDACFile\n",
    "from DACTransformer.DACTransformer import TransformerDecoder"
   ]
  },
  {
   "cell_type": "code",
   "execution_count": 2,
   "id": "5eb5d875",
   "metadata": {},
   "outputs": [],
   "source": [
    "from torch.utils.tensorboard import SummaryWriter"
   ]
  },
  {
   "cell_type": "markdown",
   "id": "300d8f66",
   "metadata": {},
   "source": [
    "### <font color='blue'> Parameters \n",
    "</font>"
   ]
  },
  {
   "cell_type": "code",
   "execution_count": 3,
   "id": "5db89db1",
   "metadata": {},
   "outputs": [
    {
     "name": "stdout",
     "output_type": "stream",
     "text": [
      "basefname = bees.e256.l4.h8\n"
     ]
    }
   ],
   "source": [
    "# Training data dir\n",
    "\n",
    "# testsnd=\"all\"\n",
    "# data_dir= \"/scratch/syntex/PisWinAppBee_long_44/dac-train\"\n",
    "# validator_data_dir= \"/scratch/syntex/PisWinAppBee_long_44/dac-val\"\n",
    "\n",
    "testsnd=\"bees\" # pistons, wind, applause, bees \n",
    "data_dir=\"/scratch/syntex/PisWinAppBee_long_44/onesnddac/\"+testsnd+\"-train-small\"  ##******* small\n",
    "validator_data_dir=\"/scratch/syntex/PisWinAppBee_long_44/onesnddac/\"+testsnd+\"-val-small\"\n",
    "\n",
    "# ---------     for the transformr  --------------#\n",
    "vocab_size = 1024\n",
    "num_tokens = 4\n",
    "embed_size = 256 # 240 #32  # embed_size must be divisible by num_heads and by num tokens\n",
    "Ti = 86\n",
    "Tt = 430 # must match the length of the sequences in the batch\n",
    "batch_size = 10\n",
    "sequence_length = Tt  # For training\n",
    "\n",
    "num_layers=4\n",
    "num_heads=8 # 8 # embed_size must be divisible by num_heads\n",
    "forward_expansion=4 #4\n",
    "dropout_rate=0.1\n",
    "learning_rate=0.001\n",
    "\n",
    "top_n = 5   # not used yet\n",
    "\n",
    "num_epochs=100\n",
    "experiment_name='scratchbees'  #the higher the embed size (to 240 anyway) the fewer epochs are necessary\n",
    "outdir = 'runs' + '/' + experiment_name\n",
    "basefname=testsnd+ '.e' + str(embed_size) + '.l' + str(num_layers) + '.h' + str(num_heads) \n",
    "\n",
    "DEVICE='cuda'#My experiments show CUDA is only) 4 times faster than CPU!\n",
    "ALSO_RUN_DUMMY_STEP =False # there a two cells that setup a single dummy input and target and take one training step\n",
    "\n",
    "inference_steps=86*20 # second fact is number of seconds (for 86 tokens/sec)\n",
    "\n",
    "ErrorLogRate=10\n",
    "checkpoint_interval=25\n",
    "\n",
    "print(f'basefname = {basefname}')"
   ]
  },
  {
   "cell_type": "markdown",
   "id": "5686de70",
   "metadata": {},
   "source": [
    "### <font color='blue'> Set up cuda. \n",
    "Without it, training runs about 4 times slower  \n",
    "</font>"
   ]
  },
  {
   "cell_type": "code",
   "execution_count": 4,
   "id": "745b1275",
   "metadata": {},
   "outputs": [
    {
     "name": "stdout",
     "output_type": "stream",
     "text": [
      "memeory on cuda 0 is  25.216745472\n"
     ]
    },
    {
     "data": {
      "text/plain": [
       "device(type='cuda')"
      ]
     },
     "execution_count": 4,
     "metadata": {},
     "output_type": "execute_result"
    }
   ],
   "source": [
    "torch.cuda.device_count()\n",
    "torch.cuda.get_device_properties(0).total_memory/1e9\n",
    "\n",
    "device = torch.device(DEVICE) # if the docker was started with --gpus all, then can choose here with cuda:0 (or cpu)\n",
    "torch.cuda.device_count()\n",
    "print(f'memeory on cuda 0 is  {torch.cuda.get_device_properties(0).total_memory/1e9}')\n",
    "\n",
    "device"
   ]
  },
  {
   "cell_type": "markdown",
   "id": "fba12153",
   "metadata": {},
   "source": [
    "### <font color='blue'> Create a custom dataset \n",
    "</font>"
   ]
  },
  {
   "cell_type": "code",
   "execution_count": 5,
   "id": "2051cb2e",
   "metadata": {},
   "outputs": [],
   "source": [
    "class CustomDACDataset(Dataset):\n",
    "    def __init__(self, data_dir):\n",
    "        \"\"\"\n",
    "        Args:\n",
    "            data_dir (string): Directory with all the data files.\n",
    "        \"\"\"\n",
    "        self.data_dir = data_dir\n",
    "        self.file_names = os.listdir(data_dir)\n",
    "\n",
    "    def __len__(self):\n",
    "        return len(self.file_names)\n",
    "\n",
    "    def __getitem__(self, idx):\n",
    "        fpath = os.path.join(self.data_dir, self.file_names[idx])\n",
    "        dacfile=dac.DACFile.load(fpath)  # Load the data file\n",
    "        data = dacfile.codes\n",
    "\n",
    "        # Assuming data is a tensor of shape [1, N, T]\n",
    "        # We remove the first dimension to get a tensor of shape [N, T]\n",
    "        data = data.squeeze(0)\n",
    "\n",
    "        # The input is the data itself\n",
    "        input_data = data[:, :-1]  # All time steps except the last one\n",
    "        # The target is the data shifted by one time step\n",
    "        target_data = data[:, 1:]  # All time steps except the first one\n",
    "\n",
    "        # Transpose the last dimensions so we get [T, N] for the transformer\n",
    "        return input_data.transpose(0, 1), target_data.transpose(0, 1)\n"
   ]
  },
  {
   "cell_type": "code",
   "execution_count": 6,
   "id": "68201baa",
   "metadata": {},
   "outputs": [
    {
     "name": "stdout",
     "output_type": "stream",
     "text": [
      "Batch 60\n",
      "Inputs shape: torch.Size([8, 430, 4])\n",
      "Targets shape: torch.Size([8, 430, 4])\n"
     ]
    }
   ],
   "source": [
    "# Create an instance of the dataset\n",
    "dataset = CustomDACDataset(data_dir=data_dir)\n",
    "# Create a DataLoader\n",
    "dataloader = DataLoader(dataset, batch_size=batch_size, shuffle=True)\n",
    "\n",
    "#Validator data set\n",
    "if validator_data_dir != None :\n",
    "    validator_dataset=CustomDACDataset(data_dir=validator_data_dir)\n",
    "    validator_dataloader= DataLoader(validator_dataset, batch_size=batch_size, shuffle=True)\n",
    "\n",
    "#---------------------------------------------------------------\n",
    "# Test data dir\n",
    "for batch_idx, (inputs, targets) in enumerate(dataloader):\n",
    "    pass\n",
    "    # Your training code here\n",
    "    # inputs: batch of input data of shape [batch_size, N, T-1]\n",
    "    # targets: corresponding batch of target data of shape [batch_size, N, T-1]\n",
    "    \n",
    "    #print(f\"Batch {batch_idx + 1}\")\n",
    "    #print(f\"Inputs shape: {inputs.shape}\")\n",
    "    #print(f\"Targets shape: {targets.shape}\")\n",
    "print(f\"Batch {batch_idx + 1}\")\n",
    "print(f\"Inputs shape: {inputs.shape}\")\n",
    "print(f\"Targets shape: {targets.shape}\")"
   ]
  },
  {
   "cell_type": "code",
   "execution_count": 7,
   "id": "dc44f3bb",
   "metadata": {},
   "outputs": [
    {
     "name": "stdout",
     "output_type": "stream",
     "text": [
      "Mask.shape is torch.Size([430, 430])\n"
     ]
    },
    {
     "data": {
      "text/plain": [
       "tensor([[0., -inf, -inf,  ..., -inf, -inf, -inf],\n",
       "        [0., 0., -inf,  ..., -inf, -inf, -inf],\n",
       "        [0., 0., 0.,  ..., -inf, -inf, -inf],\n",
       "        ...,\n",
       "        [-inf, -inf, -inf,  ..., 0., -inf, -inf],\n",
       "        [-inf, -inf, -inf,  ..., 0., 0., -inf],\n",
       "        [-inf, -inf, -inf,  ..., 0., 0., 0.]], device='cuda:0')"
      ]
     },
     "execution_count": 7,
     "metadata": {},
     "output_type": "execute_result"
    }
   ],
   "source": [
    "\n",
    "mask = generate_mask(Tt, Ti).to(device)\n",
    "print(f'Mask.shape is {mask.shape}')\n",
    "mask"
   ]
  },
  {
   "cell_type": "code",
   "execution_count": 8,
   "id": "fa021af7",
   "metadata": {},
   "outputs": [],
   "source": [
    "# Instantiate model, put it on the device\n",
    "model = TransformerDecoder(embed_size, num_layers, num_heads, forward_expansion, dropout_rate, Tt, num_tokens, vocab_size).to(device)\n",
    "optimizer = optim.Adam(model.parameters(), lr=learning_rate)\n",
    "criterion = nn.CrossEntropyLoss()\n",
    "\n",
    "if ALSO_RUN_DUMMY_STEP : \n",
    "    # Dummy input and target\n",
    "    input_data = torch.randint(0, vocab_size, (batch_size, sequence_length, num_tokens)).to(device)\n",
    "    target_data = torch.randint(0, vocab_size, (batch_size, sequence_length, num_tokens)).to(device)  # Shifted by dataloader typically\n",
    "\n",
    "    print(f'shape of input_data is {input_data.shape}')\n",
    "    print(f'shape of target_data is {target_data.shape}')"
   ]
  },
  {
   "cell_type": "code",
   "execution_count": 9,
   "id": "21bfc834",
   "metadata": {},
   "outputs": [],
   "source": [
    "# DUMMY train one step on dummy input\n",
    "if ALSO_RUN_DUMMY_STEP : \n",
    "    model.train()\n",
    "\n",
    "    optimizer.zero_grad()\n",
    "\n",
    "    # Move inputs and targets to the device\n",
    "    input_data, target_data = input_data.to(device), target_data.to(device) \n",
    "\n",
    "    output = model(input_data, mask)\n",
    "    loss = criterion(output.reshape(-1, vocab_size), target_data.reshape(-1)) # collapses all target_data dimensions into a single dimension\n",
    "\n",
    "    loss.backward()\n",
    "    optimizer.step()\n",
    "\n",
    "\n",
    "    print(f'output.shape is {output.shape}')\n",
    "    print(f'output[:, -1, :].shape is {output[:, -1, :].shape}')\n",
    "    print(f'output[:, -1, :].max(-1)[1].shape is {output[:, -1, :].max(-1)[1].shape}')\n",
    "\n",
    "    # I think this takes the max of each of the 4 tokens, even if they come from \n",
    "    next_token = output[:, -1, :].max(-1)[1]\n",
    "    print(f'The indices of the 4 max scoring token are {next_token}')\n",
    "        "
   ]
  },
  {
   "cell_type": "code",
   "execution_count": 10,
   "id": "b673b077",
   "metadata": {},
   "outputs": [],
   "source": [
    "# def inference(model, mask, inference_steps, fname) :\n",
    "#     model.eval()\n",
    "#     input_data = torch.randint(0, vocab_size, (1, Ti, num_tokens)).to(device)  # Smaller context window for inference\n",
    "#     predictions = []\n",
    "\n",
    "#     t0 = time.time()\n",
    "#     for i in range(inference_steps):  # Generate 100 tokens\n",
    "#         output = model(input_data, mask)\n",
    "\n",
    "#         # This takes the last vector of the sequence (the new predicted token stack) so has size(b,1,4,1024)\n",
    "#         # This it takes the max across the last dimension (scores for each element of the vocabulary (for each of the 4 tokens))\n",
    "#         # .max returns a duple of tensors, the first are the max vals (one for each token) and the second are the\n",
    "#         #        indices in the range of the vocabulary size. \n",
    "#         # THAT IS, the 4 selected \"best\" tokens are taken independently\n",
    "#         next_token = output[:, -1, :, :].max(-1)[1]  # Greedy decoding for simplicity\n",
    "#         predictions.append(next_token)\n",
    "#         input_data = torch.cat([input_data, next_token.unsqueeze(1)], dim=1)[:, 1:]  # Slide window\n",
    "\n",
    "#     t1 = time.time()\n",
    "#     inf_time = t1-t0\n",
    "#     print(f'inference time for {inference_steps} steps, or {inference_steps/86} seconds of sound is {inf_time}' )\n",
    "\n",
    "#     dacseq = torch.cat(predictions, dim=0).unsqueeze(0).transpose(1, 2)\n",
    "#     if mask == None:\n",
    "#         writeDACFile(fname + '_unmasked', dacseq)\n",
    "#     else :\n",
    "#         writeDACFile(fname, dacseq)       "
   ]
  },
  {
   "cell_type": "code",
   "execution_count": 11,
   "id": "4b5656d6",
   "metadata": {},
   "outputs": [],
   "source": [
    "def inference(model, Ti, vocab_size, num_tokens, inference_steps, fname) :\n",
    "    model.eval()\n",
    "    mask = generate_mask(Ti, Ti).to(device)\n",
    "    input_data = torch.randint(0, vocab_size, (1, Ti, num_tokens)).to(device)  # Smaller context window for inference\n",
    "    predictions = []\n",
    "\n",
    "    t0 = time.time()\n",
    "    for i in range(inference_steps):  # Generate 100 tokens\n",
    "        output = model(input_data, mask)\n",
    "\n",
    "        # This takes the last vector of the sequence (the new predicted token stack) so has size(b,1,4,1024)\n",
    "        # This it takes the max across the last dimension (scores for each element of the vocabulary (for each of the 4 tokens))\n",
    "        # .max returns a duple of tensors, the first are the max vals (one for each token) and the second are the\n",
    "        #        indices in the range of the vocabulary size. \n",
    "        # THAT IS, the 4 selected \"best\" tokens are taken independently\n",
    "        next_token = output[:, -1, :, :].max(-1)[1]  # Greedy decoding for simplicity\n",
    "        predictions.append(next_token)\n",
    "        input_data = torch.cat([input_data, next_token.unsqueeze(1)], dim=1)[:, 1:]  # Slide window\n",
    "\n",
    "    t1 = time.time()\n",
    "    inf_time = t1-t0\n",
    "    print(f'inference time for {inference_steps} steps, or {inference_steps/86} seconds of sound is {inf_time}' )\n",
    "\n",
    "    dacseq = torch.cat(predictions, dim=0).unsqueeze(0).transpose(1, 2)\n",
    "    if mask == None:\n",
    "        writeDACFile(fname + '_unmasked', dacseq)\n",
    "    else :\n",
    "        writeDACFile(fname, dacseq)       "
   ]
  },
  {
   "cell_type": "markdown",
   "id": "fafc1128",
   "metadata": {},
   "source": [
    "### <font color='blue'> Train !! \n",
    "</font>"
   ]
  },
  {
   "cell_type": "code",
   "execution_count": 12,
   "id": "6151da9b",
   "metadata": {},
   "outputs": [],
   "source": [
    "# Initialize SummaryWriter\n",
    "writer = SummaryWriter(outdir)"
   ]
  },
  {
   "cell_type": "code",
   "execution_count": 13,
   "id": "cccc2e8d",
   "metadata": {},
   "outputs": [
    {
     "name": "stdout",
     "output_type": "stream",
     "text": [
      "\n",
      "EPOCH 10  loss: 4.029446601867676\n",
      "Validation Loss: 5.015473365783691\n",
      "\n",
      "EPOCH 20  loss: 3.082047700881958\n",
      "Validation Loss: 5.757481098175049\n",
      "inference time for 1720 steps, or 20.0 seconds of sound is 3.9363088607788086\n",
      "\n",
      "EPOCH 30  loss: 2.575639486312866\n",
      "Validation Loss: 6.420976161956787\n",
      "\n",
      "EPOCH 40  loss: 2.2692220211029053\n",
      "Validation Loss: 6.933044910430908\n",
      "\n",
      "EPOCH 50  loss: 2.11422061920166\n",
      "Validation Loss: 7.254635810852051\n",
      "inference time for 1720 steps, or 20.0 seconds of sound is 3.8679521083831787\n",
      "\n",
      "EPOCH 60  loss: 1.9818941354751587\n",
      "Validation Loss: 7.465778350830078\n",
      "\n",
      "EPOCH 70  loss: 1.9187541007995605\n",
      "Validation Loss: 7.759516716003418\n",
      "inference time for 1720 steps, or 20.0 seconds of sound is 3.936495304107666\n",
      "\n",
      "EPOCH 80  loss: 1.816812515258789\n",
      "Validation Loss: 7.910547256469727\n",
      "\n",
      "EPOCH 90  loss: 1.7511812448501587\n",
      "Validation Loss: 8.132528305053711\n",
      "\n",
      "EPOCH 100  loss: 1.6574862003326416\n",
      "Validation Loss: 8.234443664550781\n",
      "inference time for 1720 steps, or 20.0 seconds of sound is 3.9132862091064453\n",
      "train time for 100 epochs, was 184.9131145477295\n"
     ]
    }
   ],
   "source": [
    "\n",
    "t0 = time.time()\n",
    "\n",
    "for epoch in range(num_epochs):\n",
    "    torch.cuda.empty_cache()\n",
    "    model.train()\n",
    "    for batch_idx, (input_data, target_data) in enumerate(dataloader):\n",
    "        #print(f\"b{batch_idx} \", end='')\n",
    "        optimizer.zero_grad()\n",
    "\n",
    "        # Move inputs and targets to the device\n",
    "        input_data, target_data = input_data.to(device), target_data.to(device) \n",
    "\n",
    "        output = model(input_data, mask)\n",
    "        loss = criterion(output.reshape(-1, vocab_size), target_data.reshape(-1)) # collapses all target_data dimensions into a single dimension\n",
    "\n",
    "        loss.backward()\n",
    "        optimizer.step()\n",
    "    if (epoch+1) % ErrorLogRate == 0:\n",
    "        print(f'')\n",
    "        print(f'EPOCH {epoch+1}  ', end='')\n",
    "        print(f'loss: {loss}')\n",
    "        # Log the loss to TensorBoard\n",
    "        writer.add_scalar('Loss/train', loss, epoch)\n",
    "        \n",
    "        if validator_data_dir != None :\n",
    "            model.eval()\n",
    "            with torch.no_grad():\n",
    "                val_loss = 0\n",
    "                for val_inputs, val_targets in validator_dataloader:\n",
    "                    val_inputs, val_targets = val_inputs.to(device), val_targets.to(device)\n",
    "                    val_outputs = model(val_inputs, mask)\n",
    "                    \n",
    "                    val_loss += criterion(val_outputs.reshape(-1, vocab_size), val_targets.reshape(-1)) # collapses all target_data dimensions into a single dimension\n",
    "                    #val_loss += criterion(val_outputs, val_targets).item()\n",
    "\n",
    "            print(f'Validation Loss: {val_loss / len(validator_dataloader)}')\n",
    "            writer.add_scalar('Loss/validation', val_loss, epoch)\n",
    "            \n",
    "    if (epoch+1) % checkpoint_interval == 0:\n",
    "        lastbasename = outdir+\"/\"+basefname+\"_chkpt_\"+str(epoch+1).zfill(4)\n",
    "        save_model(model, Ti,  lastbasename +\".pth\")\n",
    "        #inference(model, mask[:Ti, :Ti], inference_steps, lastbasename) \n",
    "        inference(model, Ti, vocab_size, num_tokens, inference_steps, lastbasename) \n",
    "            \n",
    "t1 = time.time()\n",
    "train_time = t1-t0\n",
    "print(f'train time for {num_epochs} epochs, was {train_time}' )\n",
    "\n",
    "    "
   ]
  },
  {
   "cell_type": "code",
   "execution_count": 14,
   "id": "5de34de7",
   "metadata": {},
   "outputs": [
    {
     "data": {
      "text/plain": [
       "tensor([[0., -inf, -inf,  ..., -inf, -inf, -inf],\n",
       "        [0., 0., -inf,  ..., -inf, -inf, -inf],\n",
       "        [0., 0., 0.,  ..., -inf, -inf, -inf],\n",
       "        ...,\n",
       "        [0., 0., 0.,  ..., 0., -inf, -inf],\n",
       "        [0., 0., 0.,  ..., 0., 0., -inf],\n",
       "        [0., 0., 0.,  ..., 0., 0., 0.]], device='cuda:0')"
      ]
     },
     "execution_count": 14,
     "metadata": {},
     "output_type": "execute_result"
    }
   ],
   "source": [
    "#just check that inference attention mask looks right\n",
    "#Actually, the inference mask can be None since we are using a context window only as long as the maximum look-back in the training mask\n",
    "# thats why taking the mask with :TI is upper-triangular. Longer dims would show a banded mask again.\n",
    "foo=mask[:Ti, :Ti]\n",
    "foo"
   ]
  },
  {
   "cell_type": "markdown",
   "id": "f14634e6",
   "metadata": {},
   "source": [
    "### <font color='blue'> User readDac.ipynb  \n",
    "to see and hear your generated audio   \n",
    "</font>"
   ]
  }
 ],
 "metadata": {
  "kernelspec": {
   "display_name": "Python 3 (ipykernel)",
   "language": "python",
   "name": "python3"
  },
  "language_info": {
   "codemirror_mode": {
    "name": "ipython",
    "version": 3
   },
   "file_extension": ".py",
   "mimetype": "text/x-python",
   "name": "python",
   "nbconvert_exporter": "python",
   "pygments_lexer": "ipython3",
   "version": "3.8.13"
  }
 },
 "nbformat": 4,
 "nbformat_minor": 5
}
